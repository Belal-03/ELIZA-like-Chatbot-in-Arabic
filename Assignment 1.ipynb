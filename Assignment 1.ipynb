{
 "cells": [
  {
   "cell_type": "markdown",
   "id": "ad9d29c6-8a53-4943-9e1d-69e324ccf0b6",
   "metadata": {},
   "source": [
    "# <center> • **NLP and Text Mining** </center>\n",
    "### <center> _____________• Assignment 01: Implement an ELIZA-like Chatbot in Arabic_____________ </center>\n",
    "### <center> _____________• By:_____________ </center>\n",
    "#### <center> _____________○ Belal Khaled ~ 2136873_____________ </center>\n",
    "#### <center> _____________○ Yaseen Naser ~ 2130397_____________ </center>\n",
    "#### <center> _____________○ Abdulrahman Abuhani ~ 2132462_____________ </center>\n",
    "# ـــــــــــــــــــــــــــــــــــــــــــــــــــــــــــــــــــــــــــــــــــــــــــــــــــــــــــــــــــــــــــــــــــــــــــــــــــــــــــــــــــــــــــــــــــــــــــــــــــــــــــــــــــــــــــ"
   ]
  },
  {
   "cell_type": "markdown",
   "id": "f2c01625-0c18-4ca8-ae7d-b7df55b74cce",
   "metadata": {},
   "source": [
    "# • Importing All Libraries we Need:"
   ]
  },
  {
   "cell_type": "code",
   "execution_count": 2,
   "id": "16b1d729-c716-4b41-8ef6-efe7274198af",
   "metadata": {},
   "outputs": [],
   "source": [
    "import re\n",
    "import random"
   ]
  },
  {
   "cell_type": "markdown",
   "id": "fd39e131-9116-4f13-ac21-e1fcd7a047b3",
   "metadata": {},
   "source": [
    "# ـــــــــــــــــــــــــــــــــــــــــــــــــــــــــــــــــــــــــــــــــــــــــــــــــــــــــــــــــــــــــــــــــــــــــــــــــــــــــــــــــــــــــــــــــــــــــــــــــــــــــــــــــــــــــــ"
   ]
  },
  {
   "cell_type": "markdown",
   "id": "3eceb849-f187-4a64-a556-030d11f16016",
   "metadata": {},
   "source": [
    "# • Generating Chatbot Responses Based on User Responses:"
   ]
  },
  {
   "cell_type": "code",
   "execution_count": 6,
   "id": "a6f9c190-09f0-4497-a10e-2293617ce641",
   "metadata": {},
   "outputs": [],
   "source": [
    "def bot_response(user_resp, user_name):\n",
    "\n",
    "    patterns = [\n",
    "        (r'كيف حالك|شو اخبارك', lambda match: random.choice([\n",
    "            f\"أنا بخير، شكرا لسؤالك يا {user_name}! وانت؟\",\n",
    "        ])),\n",
    "        (r'انا بخير|بخير', lambda match: f\"سعيد لسماع ذلك يا {user_name}! حدثني أكثر عن يومك\"),\n",
    "        (r'اريد ان اسالك', lambda match: f\"تفضل يا {user_name}، انا هنا للاجابة على ما اعرف.\"),\n",
    "        (r'انا اشعر ب ?(.*)', lambda match: f\"لماذا تشعر ب{match.group(1).strip()} يا {user_name}؟\"),\n",
    "        (r'بسبب الدراسة|الدراسة', lambda match: f\"فهمت! هل الدراسة مرهقة هذه الفترة يا {user_name}؟\"),\n",
    "        (r'ضيق الوقت', lambda match: f\"أفهمك تمامًا يا {user_name} ،ضيق الوقت يمكن أن يكون مرهقا. لكن لا تقلق، مع التنظيم الجيد ستتجاوز هذه المرحلة بنجاح!\"),\n",
    "        (r'شكرا لك|شكرا', lambda match: f\"العفو يا {user_name} ! أنا هنا لخدمتك في أي وقت.\"),\n",
    "        (r'من هي افضل دكتورة في الجامعة الهاشمية؟', lambda match: \"دكتورة إسراء الشديفات هي افضل دكتورة في الجامعة الهاشمية، لما تتمتع به من خبرة كبيرة واسلوب تدريس مميز.\"),\n",
    "        (r'ما رايك بسياسة ترامب الاقتصادية؟', lambda match: \"\"\"سياسة ترامب الاقتصادية كانت مبنية على مبدا \"أمريكا أولا\"، وركزت على تخفيض الضرائب، وفرض رسوم جمركية لحماية الصناعات الامريكية. \n",
    "         دعمت بعض القطاعات مثل الصناعة والطاقة.\n",
    "         لكنها زادت العجز في الميزانية وأثرت على العلاقات التجارية.\n",
    "         بشكل عام، لها إيجابيات على المدى القصير، لكن آثارها طويلة المدى ما زالت محل جدل. \"\"\"),\n",
    "        (r'ما هي افضل الافلام؟', lambda match: \"\"\"هناك العديد من الافلام الرائعة، لكن من بين الافضل:\n",
    "         Interstellar – فيلم عبقري عن الحب والزمان والفضاء.\n",
    "         Oppenheimer – فيلم عميق عن عبقرية العلم وخطورة القوة النووية.\n",
    "         Parasite – نظرة ذكية على الطبقية في المجتمع.\"\"\"),   \n",
    "        (r'ما هي افضل المسلسلات؟', lambda match: \"\"\"من أفضل المسلسلات حسب رايي الشخصي:\n",
    "         Breaking Bad – رحلة مثيرة تُظهر تحول معلم الكيمياء الطيب إلى أحد أخطر تجار المخدرات، مليئة بالإثارة والمفاجآت.\n",
    "         Better Call Saul – القصة المذهلة للمحامي الماكر \"سول غودمان\" الذي بدأ رحلته في عالم القانون وسط تحديات أخلاقية وقرارات معقدة.\n",
    "         Game of Thrones – عالم خيالي ضخم وممتع جدا ولكن مع الاسف النهاية سيئة جدا بسبب كتاب المسلسل وليس بسبب كاتب الرواية).\"\"\"),\n",
    "        (r'من كاتب رواية جيم اوف ثرونز؟', lambda match: \"كاتب 'Game of Thrones' هو جورج ر. ر. مارتن.\"),\n",
    "        (r'افضل انمي؟', lambda match: \"عشاق الأنمي يختلفون كثيراً، لكن بالنسبة لي الافضل هو ون بيس!\"),\n",
    "        (r'ما هو انمي ون بيس؟', lambda match: \"ون بيس هو أنمي مغامرات عن لوفي وأصدقائه الذين يسعون للحصول على الكنز الأسطوري 'ون بيس' ليصبحوا ملوك القراصنة!\"),\n",
    "        (r'ما هي افضل لعبة تنافسية حاليا؟', lambda match: \"أفضل لعبة تنافسية حاليًا هي 'أوفر واتش 2'، لما تقدمه من تجربة لعب رائعة وجو تنافسي مثير.\"),\n",
    "        (r'هل انت روبوت', lambda match: \"نعم، أنا روبوت للدردشة باللغة العربية وانا هنا لخدمتك! \"),\n",
    "        (r'ما هو اسمك؟', lambda match: \"اسمي هو سييرا، وأنا هنا لخدمتك في أي وقت.\"),\n",
    "        (r'ما هو اسمي؟', lambda match: f\"اسمك هو {user_name}، وكم أنا سعيد بالتحدث معك!\"),\n",
    "        (r'لا اعرف', lambda match: \"لماذا لا تعرف؟\"), \n",
    "        (r'نعم', lambda match: \"اخبرني بالمزيد من فضلك.\"),\n",
    "        (r'لا', lambda match: \"لماذا لا؟\"),\n",
    "    ]\n",
    "\n",
    "    for pattern, response_func in patterns:\n",
    "        match = re.search(pattern, user_resp)\n",
    "        if match:\n",
    "            return response_func(match)\n",
    "    else:\n",
    "        return random.choice([\n",
    "            \"هل يمكنك توضيح ذلك اكثر؟\",\n",
    "            f\"تابع من فضلك يا {user_name}، انا استمع.\"\n",
    "        ])"
   ]
  },
  {
   "cell_type": "markdown",
   "id": "d5b166d8-287d-4c27-a161-ad7c58569445",
   "metadata": {},
   "source": [
    "# ـــــــــــــــــــــــــــــــــــــــــــــــــــــــــــــــــــــــــــــــــــــــــــــــــــــــــــــــــــــــــــــــــــــــــــــــــــــــــــــــــــــــــــــــــــــــــــــــــــــــــــــــــــــــــــ"
   ]
  },
  {
   "cell_type": "markdown",
   "id": "52d7cc8b-2306-43ed-b988-83dd7d595c1b",
   "metadata": {},
   "source": [
    "# • Creating an Interactive Arabic Chatbot (Sierra):"
   ]
  },
  {
   "cell_type": "code",
   "execution_count": 10,
   "id": "f6a306d1-8981-41a9-820f-11053f025451",
   "metadata": {},
   "outputs": [],
   "source": [
    "def sierra_chatbot():\n",
    "    print(\" 😊 مرحبا ! انا روبوت الدردشة باللغة العربية واسمي هو: سييرا\")\n",
    "    user_name = input(\"قبل أن نبدا، ما اسمك؟ \").strip()\n",
    "    print(f\"مرحبا يا {user_name}! يمكنك كتابة 'الى اللقاء' في اي وقت لانهاء المحادثة.\")\n",
    "\n",
    "    while True:\n",
    "        user_resp = input(f\"{user_name}: \").strip()\n",
    "\n",
    "        if user_resp == \"الى اللقاء\":\n",
    "            print(f\"سييرا: إلى اللقاء يا {user_name}!\")\n",
    "            break\n",
    "\n",
    "        resp = bot_response(user_resp, user_name)\n",
    "        print(\"سييرا:\", resp)"
   ]
  },
  {
   "cell_type": "markdown",
   "id": "aa88a826-79bd-4501-b37d-2e3092bba5aa",
   "metadata": {
    "jp-MarkdownHeadingCollapsed": true
   },
   "source": [
    "# ـــــــــــــــــــــــــــــــــــــــــــــــــــــــــــــــــــــــــــــــــــــــــــــــــــــــــــــــــــــــــــــــــــــــــــــــــــــــــــــــــــــــــــــــــــــــــــــــــــــــــــــــــــــــــــ"
   ]
  },
  {
   "cell_type": "markdown",
   "id": "2b9deae0-f169-4dd1-a5c7-2a44d8ed62f3",
   "metadata": {},
   "source": [
    "# • Launching Sierra Chatbot:"
   ]
  },
  {
   "cell_type": "code",
   "execution_count": 14,
   "id": "e5e32132-2a74-4ac9-823f-9ffc5c9250ca",
   "metadata": {},
   "outputs": [
    {
     "name": "stdout",
     "output_type": "stream",
     "text": [
      " 😊 مرحبا ! انا روبوت الدردشة باللغة العربية واسمي هو: سييرا\n"
     ]
    },
    {
     "name": "stdin",
     "output_type": "stream",
     "text": [
      "قبل أن نبدا، ما اسمك؟  بلال\n"
     ]
    },
    {
     "name": "stdout",
     "output_type": "stream",
     "text": [
      "مرحبا يا بلال! يمكنك كتابة 'الى اللقاء' في اي وقت لانهاء المحادثة.\n"
     ]
    },
    {
     "name": "stdin",
     "output_type": "stream",
     "text": [
      "بلال:  كيف حالك\n"
     ]
    },
    {
     "name": "stdout",
     "output_type": "stream",
     "text": [
      "سييرا: أنا بخير، شكرا لسؤالك يا بلال! وانت؟\n"
     ]
    },
    {
     "name": "stdin",
     "output_type": "stream",
     "text": [
      "بلال:  بخير\n"
     ]
    },
    {
     "name": "stdout",
     "output_type": "stream",
     "text": [
      "سييرا: سعيد لسماع ذلك يا بلال! حدثني أكثر عن يومك\n"
     ]
    },
    {
     "name": "stdin",
     "output_type": "stream",
     "text": [
      "بلال:  ما هو اسمك\n"
     ]
    },
    {
     "name": "stdout",
     "output_type": "stream",
     "text": [
      "سييرا: هل يمكنك توضيح ذلك اكثر؟\n"
     ]
    },
    {
     "name": "stdin",
     "output_type": "stream",
     "text": [
      "بلال:  ما هو اسمك؟\n"
     ]
    },
    {
     "name": "stdout",
     "output_type": "stream",
     "text": [
      "سييرا: اسمي هو سييرا، وأنا هنا لخدمتك في أي وقت.\n"
     ]
    },
    {
     "name": "stdin",
     "output_type": "stream",
     "text": [
      "بلال:  ما هو اسمي؟\n"
     ]
    },
    {
     "name": "stdout",
     "output_type": "stream",
     "text": [
      "سييرا: اسمك هو بلال، وكم أنا سعيد بالتحدث معك!\n"
     ]
    },
    {
     "name": "stdin",
     "output_type": "stream",
     "text": [
      "بلال:  اريد ان اسالك\n"
     ]
    },
    {
     "name": "stdout",
     "output_type": "stream",
     "text": [
      "سييرا: تفضل يا بلال، انا هنا للاجابة على ما اعرف.\n"
     ]
    },
    {
     "name": "stdin",
     "output_type": "stream",
     "text": [
      "بلال:  من هي افضل دكتورة في الجامعة الهاشمية؟\n"
     ]
    },
    {
     "name": "stdout",
     "output_type": "stream",
     "text": [
      "سييرا: دكتورة إسراء الشديفات هي افضل دكتورة في الجامعة الهاشمية، لما تتمتع به من خبرة كبيرة واسلوب تدريس مميز.\n"
     ]
    },
    {
     "name": "stdin",
     "output_type": "stream",
     "text": [
      "بلال:  شكرا لك\n"
     ]
    },
    {
     "name": "stdout",
     "output_type": "stream",
     "text": [
      "سييرا: العفو يا بلال ! أنا هنا لخدمتك في أي وقت.\n"
     ]
    },
    {
     "name": "stdin",
     "output_type": "stream",
     "text": [
      "بلال:  الى اللقاء\n"
     ]
    },
    {
     "name": "stdout",
     "output_type": "stream",
     "text": [
      "سييرا: إلى اللقاء يا بلال!\n"
     ]
    }
   ],
   "source": [
    "sierra_chatbot()"
   ]
  },
  {
   "cell_type": "markdown",
   "id": "186a2b9a-8bcf-4ae4-b367-bad0f38c65ce",
   "metadata": {},
   "source": [
    "# ـــــــــــــــــــــــــــــــــــــــــــــــــــــــــــــــــــــــــــــــــــــــــــــــــــــــــــــــــــــــــــــــــــــــــــــــــــــــــــــــــــــــــــــــــــــــــــــــــــــــــــــــــــــــــــ"
   ]
  },
  {
   "cell_type": "markdown",
   "id": "c9a1de15-db67-4c89-99d5-889a8848e2cd",
   "metadata": {},
   "source": [
    "# <center> **The End** </center> "
   ]
  },
  {
   "cell_type": "markdown",
   "id": "b799526e-3480-4ba7-a6ac-6177a055293b",
   "metadata": {},
   "source": [
    "# ـــــــــــــــــــــــــــــــــــــــــــــــــــــــــــــــــــــــــــــــــــــــــــــــــــــــــــــــــــــــــــــــــــــــــــــــــــــــــــــــــــــــــــــــــــــــــــــــــــــــــــــــــــــــــــ"
   ]
  }
 ],
 "metadata": {
  "kernelspec": {
   "display_name": "Python [conda env:base] *",
   "language": "python",
   "name": "conda-base-py"
  },
  "language_info": {
   "codemirror_mode": {
    "name": "ipython",
    "version": 3
   },
   "file_extension": ".py",
   "mimetype": "text/x-python",
   "name": "python",
   "nbconvert_exporter": "python",
   "pygments_lexer": "ipython3",
   "version": "3.12.7"
  }
 },
 "nbformat": 4,
 "nbformat_minor": 5
}
